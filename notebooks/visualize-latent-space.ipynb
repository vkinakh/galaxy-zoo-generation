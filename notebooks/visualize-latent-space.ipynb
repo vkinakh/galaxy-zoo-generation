{
 "cells": [
  {
   "cell_type": "code",
   "execution_count": 1,
   "id": "billion-shelf",
   "metadata": {
    "pycharm": {
     "name": "#%%\n"
    }
   },
   "outputs": [],
   "source": [
    "%reload_ext autoreload\n",
    "%autoreload 2\n",
    "%matplotlib notebook\n",
    "\n",
    "# Suppress warnings \n",
    "import warnings\n",
    "warnings.filterwarnings('ignore')"
   ]
  },
  {
   "cell_type": "markdown",
   "id": "minor-fraud",
   "metadata": {
    "pycharm": {
     "name": "#%% md\n"
    }
   },
   "source": [
    "# Visualize the latent space"
   ]
  },
  {
   "cell_type": "markdown",
   "id": "exceptional-label",
   "metadata": {
    "pycharm": {
     "name": "#%% md\n"
    }
   },
   "source": [
    "## Imports"
   ]
  },
  {
   "cell_type": "code",
   "execution_count": 2,
   "id": "wicked-bride",
   "metadata": {
    "pycharm": {
     "is_executing": true,
     "name": "#%%\n"
    }
   },
   "outputs": [],
   "source": [
    "from collections import Counter\n",
    "\n",
    "from tqdm import tqdm\n",
    "import matplotlib.pyplot as plt\n",
    "import numpy as np\n",
    "\n",
    "from sklearn.manifold import TSNE\n",
    "from sklearn.cluster import KMeans\n",
    "\n",
    "import torch\n",
    "\n",
    "from src.metrics.distribution_measures import Encoder\n",
    "from src.data.dataset_updated import MakeDataLoader\n",
    "from src.utils import get_device"
   ]
  },
  {
   "cell_type": "markdown",
   "id": "coordinated-oasis",
   "metadata": {
    "pycharm": {
     "name": "#%% md\n"
    }
   },
   "source": [
    "## Configs|"
   ]
  },
  {
   "cell_type": "code",
   "execution_count": 3,
   "id": "wicked-daughter",
   "metadata": {
    "pycharm": {
     "is_executing": true,
     "name": "#%%\n"
    }
   },
   "outputs": [],
   "source": [
    "path_encoder = '../models/cVAE/parameter_state_dict_Encoder.pth'\n",
    "# dataset parameters\n",
    "folder_images = '/home/kinakh/Datasets/galaxy-zoo/images_training_rev1/'\n",
    "file_labels = '/home/kinakh/Datasets/galaxy-zoo/training_solutions_rev1.csv'\n",
    "size = 64\n",
    "augmented = False\n",
    "batch_size = 64\n",
    "\n",
    "device = get_device()"
   ]
  },
  {
   "cell_type": "markdown",
   "id": "parliamentary-office",
   "metadata": {
    "pycharm": {
     "name": "#%% md\n"
    }
   },
   "source": [
    "## Load encoder"
   ]
  },
  {
   "cell_type": "code",
   "execution_count": 4,
   "id": "premium-vacuum",
   "metadata": {
    "pycharm": {
     "is_executing": true,
     "name": "#%%\n"
    }
   },
   "outputs": [
    {
     "name": "stdout",
     "output_type": "stream",
     "text": [
      "Loading: <All keys matched successfully>\n"
     ]
    }
   ],
   "source": [
    "encoder = Encoder()\n",
    "ckpt = torch.load(path_encoder)\n",
    "res = encoder.load_state_dict(ckpt)\n",
    "print(f'Loading: {res}')\n",
    "\n",
    "encoder.to(device)\n",
    "encoder.eval();"
   ]
  },
  {
   "cell_type": "code",
   "execution_count": 5,
   "id": "former-external",
   "metadata": {
    "pycharm": {
     "is_executing": true,
     "name": "#%%\n"
    }
   },
   "outputs": [],
   "source": [
    "make_dl = MakeDataLoader(folder_images, file_labels, size, augmented=augmented)\n",
    "dl_train = make_dl.get_data_loader_full(batch_size=batch_size)"
   ]
  },
  {
   "cell_type": "code",
   "execution_count": 6,
   "id": "vocational-warner",
   "metadata": {
    "pycharm": {
     "is_executing": true,
     "name": "#%%\n"
    }
   },
   "outputs": [
    {
     "data": {
      "text/plain": [
       "61568"
      ]
     },
     "execution_count": 6,
     "metadata": {},
     "output_type": "execute_result"
    }
   ],
   "source": [
    "len(dl_train) * batch_size"
   ]
  },
  {
   "cell_type": "markdown",
   "id": "according-course",
   "metadata": {
    "pycharm": {
     "name": "#%% md\n"
    }
   },
   "source": [
    "## Compute latents"
   ]
  },
  {
   "cell_type": "code",
   "execution_count": 7,
   "id": "cooked-cruise",
   "metadata": {
    "pycharm": {
     "is_executing": true,
     "name": "#%%\n"
    },
    "scrolled": true
   },
   "outputs": [
    {
     "name": "stderr",
     "output_type": "stream",
     "text": [
      "100%|██████████| 962/962 [01:59<00:00,  8.02it/s]"
     ]
    },
    {
     "name": "stdout",
     "output_type": "stream",
     "text": [
      "Number of latents: 61568\n"
     ]
    },
    {
     "name": "stderr",
     "output_type": "stream",
     "text": [
      "\n"
     ]
    }
   ],
   "source": [
    "latents = []\n",
    "labels = []\n",
    "\n",
    "\n",
    "for images, lbl in tqdm(dl_train):\n",
    "    images = images.to(device)\n",
    "    labels.extend(lbl.detach().cpu().numpy())\n",
    "    \n",
    "    with torch.no_grad():\n",
    "        mu, _ = encoder(images)\n",
    "    latents.extend(mu.detach().cpu().numpy())\n",
    "print(f'Number of latents: {len(latents)}')\n",
    "latents = np.array(latents)\n",
    "labels = np.array(labels)"
   ]
  },
  {
   "cell_type": "markdown",
   "id": "photographic-windows",
   "metadata": {
    "pycharm": {
     "is_executing": true,
     "name": "#%%\n"
    }
   },
   "source": [
    "## Apply clustering"
   ]
  },
  {
   "cell_type": "code",
   "execution_count": null,
   "outputs": [],
   "source": [
    "n_clusters=13\n",
    "kmeans = KMeans(n_clusters, random_state=0)\n",
    "\n",
    "kmeans.fit(labels)\n",
    "preds = kmeans.predict(labels)"
   ],
   "metadata": {
    "collapsed": false,
    "pycharm": {
     "name": "#%%\n"
    }
   }
  },
  {
   "cell_type": "code",
   "execution_count": null,
   "outputs": [],
   "source": [
    "labels_edge_on = labels[:, 3] > 0.9\n",
    "preds_edge_on = preds[labels[:, 3] > 0.9]\n",
    "\n",
    "len(preds_edge_on)"
   ],
   "metadata": {
    "collapsed": false,
    "pycharm": {
     "name": "#%%\n"
    }
   }
  },
  {
   "cell_type": "code",
   "execution_count": null,
   "outputs": [],
   "source": [
    "preds_spiral_arms = preds[labels[:,7] > 0.9]\n",
    "len(preds_spiral_arms)"
   ],
   "metadata": {
    "collapsed": false,
    "pycharm": {
     "name": "#%%\n"
    }
   }
  },
  {
   "cell_type": "code",
   "execution_count": null,
   "outputs": [],
   "source": [
    "preds_barred = preds[np.logical_and(labels[:, 5] > 0.9, labels[:,7] < 0.9)]\n",
    "len(preds_barred)"
   ],
   "metadata": {
    "collapsed": false,
    "pycharm": {
     "name": "#%%\n"
    }
   }
  },
  {
   "cell_type": "code",
   "execution_count": null,
   "outputs": [],
   "source": [
    "preds_not_barred = preds[np.logical_and(labels[:, 6] > 0.9, labels[:,7] < 0.9)]\n",
    "len(preds_not_barred)"
   ],
   "metadata": {
    "collapsed": false,
    "pycharm": {
     "name": "#%%\n"
    }
   }
  },
  {
   "cell_type": "code",
   "execution_count": null,
   "outputs": [],
   "source": [
    "preds_completely_round = preds[labels[:,15] > 0.9]\n",
    "len(preds_completely_round)"
   ],
   "metadata": {
    "collapsed": false,
    "pycharm": {
     "name": "#%%\n"
    }
   }
  },
  {
   "cell_type": "code",
   "execution_count": null,
   "outputs": [],
   "source": [
    "preds_elliptic = preds[labels[:,16] > 0.9]\n",
    "len(preds_elliptic)"
   ],
   "metadata": {
    "collapsed": false,
    "pycharm": {
     "name": "#%%\n"
    }
   }
  },
  {
   "cell_type": "code",
   "execution_count": null,
   "outputs": [],
   "source": [
    "preds_elliptic"
   ],
   "metadata": {
    "collapsed": false,
    "pycharm": {
     "name": "#%%\n"
    }
   }
  },
  {
   "cell_type": "code",
   "execution_count": null,
   "outputs": [],
   "source": [
    "count_edge_on = Counter(preds_edge_on)\n",
    "vec_edge_on = [0] * n_clusters\n",
    "\n",
    "for i in range(n_clusters):\n",
    "    if i in count_edge_on:\n",
    "        vec_edge_on[i] = count_edge_on[i]\n",
    "\n",
    "vec_edge_on"
   ],
   "metadata": {
    "collapsed": false,
    "pycharm": {
     "name": "#%%\n"
    }
   }
  },
  {
   "cell_type": "code",
   "execution_count": null,
   "outputs": [],
   "source": [
    "count_barred = Counter(preds_barred)\n",
    "vec_barred = [0] * n_clusters\n",
    "\n",
    "for i in range(n_clusters):\n",
    "    if i in count_barred:\n",
    "        vec_barred[i] = count_barred[i]\n",
    "vec_barred"
   ],
   "metadata": {
    "collapsed": false,
    "pycharm": {
     "name": "#%%\n"
    }
   }
  },
  {
   "cell_type": "code",
   "execution_count": null,
   "outputs": [],
   "source": [
    "count_not_barred = Counter(preds_not_barred)\n",
    "vec_not_barred = [0] * n_clusters\n",
    "\n",
    "for i in range(n_clusters):\n",
    "    if i in count_not_barred:\n",
    "        vec_not_barred[i] = count_not_barred[i]\n",
    "vec_not_barred"
   ],
   "metadata": {
    "collapsed": false,
    "pycharm": {
     "name": "#%%\n"
    }
   }
  },
  {
   "cell_type": "code",
   "execution_count": null,
   "outputs": [],
   "source": [
    "count_spiral_arms = Counter(preds_spiral_arms)\n",
    "vec_spiral_arms = [0] * n_clusters\n",
    "\n",
    "for i in range(n_clusters):\n",
    "    if i in count_spiral_arms:\n",
    "        vec_spiral_arms[i] = count_spiral_arms[i]\n",
    "vec_spiral_arms"
   ],
   "metadata": {
    "collapsed": false,
    "pycharm": {
     "name": "#%%\n"
    }
   }
  },
  {
   "cell_type": "code",
   "execution_count": null,
   "outputs": [],
   "source": [
    "count_completely_round = Counter(preds_completely_round)\n",
    "vec_completely_round = [0] * n_clusters\n",
    "\n",
    "for i in range(n_clusters):\n",
    "    if i in count_completely_round:\n",
    "        vec_completely_round[i] = count_completely_round[i]\n",
    "vec_completely_round"
   ],
   "metadata": {
    "collapsed": false,
    "pycharm": {
     "name": "#%%\n"
    }
   }
  },
  {
   "cell_type": "code",
   "execution_count": null,
   "outputs": [],
   "source": [
    "count_elliptic = Counter(preds_elliptic)\n",
    "vec_elliptic = [0] * n_clusters\n",
    "\n",
    "for i in range(n_clusters):\n",
    "    if i in count_elliptic:\n",
    "        vec_elliptic[i] = count_elliptic[i]\n",
    "vec_elliptic"
   ],
   "metadata": {
    "collapsed": false,
    "pycharm": {
     "name": "#%%\n"
    }
   }
  },
  {
   "cell_type": "code",
   "execution_count": null,
   "outputs": [],
   "source": [
    "x = [f'C{i+1}' for i in range(13)]"
   ],
   "metadata": {
    "collapsed": false,
    "pycharm": {
     "name": "#%%\n"
    }
   }
  },
  {
   "cell_type": "code",
   "execution_count": null,
   "outputs": [],
   "source": [
    "vec_edge_on = np.array(vec_edge_on)\n",
    "vec_barred = np.array(vec_barred)\n",
    "vec_not_barred = np.array(vec_not_barred)\n",
    "vec_spiral_arms = np.array(vec_spiral_arms)\n",
    "vec_completely_round = np.array(vec_completely_round)\n",
    "vec_elliptic = np.array(vec_elliptic)"
   ],
   "metadata": {
    "collapsed": false,
    "pycharm": {
     "name": "#%%\n"
    }
   }
  },
  {
   "cell_type": "code",
   "execution_count": null,
   "outputs": [],
   "source": [
    "vec_sum = vec_edge_on + vec_barred + vec_not_barred + vec_spiral_arms + vec_completely_round + vec_elliptic"
   ],
   "metadata": {
    "collapsed": false,
    "pycharm": {
     "name": "#%%\n"
    }
   }
  },
  {
   "cell_type": "code",
   "execution_count": null,
   "outputs": [],
   "source": [
    "vec_sum[vec_sum == 0] = 1"
   ],
   "metadata": {
    "collapsed": false,
    "pycharm": {
     "name": "#%%\n"
    }
   }
  },
  {
   "cell_type": "code",
   "execution_count": null,
   "outputs": [],
   "source": [
    "vec_edge_on = vec_edge_on / vec_sum\n",
    "vec_barred = vec_barred / vec_sum\n",
    "vec_not_barred = vec_not_barred / vec_sum\n",
    "vec_spiral_arms = vec_spiral_arms / vec_sum\n",
    "vec_completely_round = vec_completely_round / vec_sum\n",
    "vec_elliptic = vec_elliptic / vec_sum"
   ],
   "metadata": {
    "collapsed": false,
    "pycharm": {
     "name": "#%%\n"
    }
   }
  },
  {
   "cell_type": "code",
   "execution_count": null,
   "outputs": [],
   "source": [
    "vec_edge_on"
   ],
   "metadata": {
    "collapsed": false,
    "pycharm": {
     "name": "#%%\n"
    }
   }
  },
  {
   "cell_type": "code",
   "execution_count": null,
   "outputs": [],
   "source": [
    "vec_not_barred"
   ],
   "metadata": {
    "collapsed": false,
    "pycharm": {
     "name": "#%%\n"
    }
   }
  },
  {
   "cell_type": "code",
   "execution_count": null,
   "outputs": [],
   "source": [
    "import matplotlib.ticker as mtick"
   ],
   "metadata": {
    "collapsed": false,
    "pycharm": {
     "name": "#%%\n"
    }
   }
  },
  {
   "cell_type": "code",
   "execution_count": null,
   "outputs": [],
   "source": [
    "plt.figure()\n",
    "plt.gca().yaxis.set_major_formatter(mtick.PercentFormatter(1))\n",
    "\n",
    "plt.bar(x, vec_edge_on, color='cyan', label='Edge on')\n",
    "plt.bar(x, vec_barred, bottom=vec_edge_on, color='green', label='Barred')\n",
    "plt.bar(x, vec_not_barred, bottom=vec_edge_on+vec_barred, color='red', label='Not barred')\n",
    "plt.bar(x, vec_spiral_arms, bottom=vec_edge_on+vec_barred+vec_not_barred, color='yellow', label='Spiral arms')\n",
    "plt.bar(x, vec_completely_round, bottom=vec_edge_on+vec_barred+vec_not_barred+vec_spiral_arms, color='blue', \n",
    "        label='Completely round')\n",
    "plt.bar(x, vec_elliptic, bottom=vec_edge_on+vec_barred+vec_not_barred+vec_spiral_arms+vec_completely_round,\n",
    "       color='orange', label='Elliptic')\n",
    "plt.xlabel('Cluster')\n",
    "plt.ylabel('Galaxies')\n",
    "plt.legend()\n",
    "\n",
    "plt.savefig('bar_chart_updated.png', dpi=600)"
   ],
   "metadata": {
    "collapsed": false,
    "pycharm": {
     "name": "#%%\n"
    }
   }
  },
  {
   "cell_type": "code",
   "execution_count": 53,
   "id": "celtic-information",
   "metadata": {
    "pycharm": {
     "is_executing": true,
     "name": "#%%\n"
    }
   },
   "outputs": [
    {
     "data": {
      "application/javascript": [
       "/* Put everything inside the global mpl namespace */\n",
       "/* global mpl */\n",
       "window.mpl = {};\n",
       "\n",
       "mpl.get_websocket_type = function () {\n",
       "    if (typeof WebSocket !== 'undefined') {\n",
       "        return WebSocket;\n",
       "    } else if (typeof MozWebSocket !== 'undefined') {\n",
       "        return MozWebSocket;\n",
       "    } else {\n",
       "        alert(\n",
       "            'Your browser does not have WebSocket support. ' +\n",
       "                'Please try Chrome, Safari or Firefox ≥ 6. ' +\n",
       "                'Firefox 4 and 5 are also supported but you ' +\n",
       "                'have to enable WebSockets in about:config.'\n",
       "        );\n",
       "    }\n",
       "};\n",
       "\n",
       "mpl.figure = function (figure_id, websocket, ondownload, parent_element) {\n",
       "    this.id = figure_id;\n",
       "\n",
       "    this.ws = websocket;\n",
       "\n",
       "    this.supports_binary = this.ws.binaryType !== undefined;\n",
       "\n",
       "    if (!this.supports_binary) {\n",
       "        var warnings = document.getElementById('mpl-warnings');\n",
       "        if (warnings) {\n",
       "            warnings.style.display = 'block';\n",
       "            warnings.textContent =\n",
       "                'This browser does not support binary websocket messages. ' +\n",
       "                'Performance may be slow.';\n",
       "        }\n",
       "    }\n",
       "\n",
       "    this.imageObj = new Image();\n",
       "\n",
       "    this.context = undefined;\n",
       "    this.message = undefined;\n",
       "    this.canvas = undefined;\n",
       "    this.rubberband_canvas = undefined;\n",
       "    this.rubberband_context = undefined;\n",
       "    this.format_dropdown = undefined;\n",
       "\n",
       "    this.image_mode = 'full';\n",
       "\n",
       "    this.root = document.createElement('div');\n",
       "    this.root.setAttribute('style', 'display: inline-block');\n",
       "    this._root_extra_style(this.root);\n",
       "\n",
       "    parent_element.appendChild(this.root);\n",
       "\n",
       "    this._init_header(this);\n",
       "    this._init_canvas(this);\n",
       "    this._init_toolbar(this);\n",
       "\n",
       "    var fig = this;\n",
       "\n",
       "    this.waiting = false;\n",
       "\n",
       "    this.ws.onopen = function () {\n",
       "        fig.send_message('supports_binary', { value: fig.supports_binary });\n",
       "        fig.send_message('send_image_mode', {});\n",
       "        if (fig.ratio !== 1) {\n",
       "            fig.send_message('set_device_pixel_ratio', {\n",
       "                device_pixel_ratio: fig.ratio,\n",
       "            });\n",
       "        }\n",
       "        fig.send_message('refresh', {});\n",
       "    };\n",
       "\n",
       "    this.imageObj.onload = function () {\n",
       "        if (fig.image_mode === 'full') {\n",
       "            // Full images could contain transparency (where diff images\n",
       "            // almost always do), so we need to clear the canvas so that\n",
       "            // there is no ghosting.\n",
       "            fig.context.clearRect(0, 0, fig.canvas.width, fig.canvas.height);\n",
       "        }\n",
       "        fig.context.drawImage(fig.imageObj, 0, 0);\n",
       "    };\n",
       "\n",
       "    this.imageObj.onunload = function () {\n",
       "        fig.ws.close();\n",
       "    };\n",
       "\n",
       "    this.ws.onmessage = this._make_on_message_function(this);\n",
       "\n",
       "    this.ondownload = ondownload;\n",
       "};\n",
       "\n",
       "mpl.figure.prototype._init_header = function () {\n",
       "    var titlebar = document.createElement('div');\n",
       "    titlebar.classList =\n",
       "        'ui-dialog-titlebar ui-widget-header ui-corner-all ui-helper-clearfix';\n",
       "    var titletext = document.createElement('div');\n",
       "    titletext.classList = 'ui-dialog-title';\n",
       "    titletext.setAttribute(\n",
       "        'style',\n",
       "        'width: 100%; text-align: center; padding: 3px;'\n",
       "    );\n",
       "    titlebar.appendChild(titletext);\n",
       "    this.root.appendChild(titlebar);\n",
       "    this.header = titletext;\n",
       "};\n",
       "\n",
       "mpl.figure.prototype._canvas_extra_style = function (_canvas_div) {};\n",
       "\n",
       "mpl.figure.prototype._root_extra_style = function (_canvas_div) {};\n",
       "\n",
       "mpl.figure.prototype._init_canvas = function () {\n",
       "    var fig = this;\n",
       "\n",
       "    var canvas_div = (this.canvas_div = document.createElement('div'));\n",
       "    canvas_div.setAttribute(\n",
       "        'style',\n",
       "        'border: 1px solid #ddd;' +\n",
       "            'box-sizing: content-box;' +\n",
       "            'clear: both;' +\n",
       "            'min-height: 1px;' +\n",
       "            'min-width: 1px;' +\n",
       "            'outline: 0;' +\n",
       "            'overflow: hidden;' +\n",
       "            'position: relative;' +\n",
       "            'resize: both;'\n",
       "    );\n",
       "\n",
       "    function on_keyboard_event_closure(name) {\n",
       "        return function (event) {\n",
       "            return fig.key_event(event, name);\n",
       "        };\n",
       "    }\n",
       "\n",
       "    canvas_div.addEventListener(\n",
       "        'keydown',\n",
       "        on_keyboard_event_closure('key_press')\n",
       "    );\n",
       "    canvas_div.addEventListener(\n",
       "        'keyup',\n",
       "        on_keyboard_event_closure('key_release')\n",
       "    );\n",
       "\n",
       "    this._canvas_extra_style(canvas_div);\n",
       "    this.root.appendChild(canvas_div);\n",
       "\n",
       "    var canvas = (this.canvas = document.createElement('canvas'));\n",
       "    canvas.classList.add('mpl-canvas');\n",
       "    canvas.setAttribute('style', 'box-sizing: content-box;');\n",
       "\n",
       "    this.context = canvas.getContext('2d');\n",
       "\n",
       "    var backingStore =\n",
       "        this.context.backingStorePixelRatio ||\n",
       "        this.context.webkitBackingStorePixelRatio ||\n",
       "        this.context.mozBackingStorePixelRatio ||\n",
       "        this.context.msBackingStorePixelRatio ||\n",
       "        this.context.oBackingStorePixelRatio ||\n",
       "        this.context.backingStorePixelRatio ||\n",
       "        1;\n",
       "\n",
       "    this.ratio = (window.devicePixelRatio || 1) / backingStore;\n",
       "\n",
       "    var rubberband_canvas = (this.rubberband_canvas = document.createElement(\n",
       "        'canvas'\n",
       "    ));\n",
       "    rubberband_canvas.setAttribute(\n",
       "        'style',\n",
       "        'box-sizing: content-box; position: absolute; left: 0; top: 0; z-index: 1;'\n",
       "    );\n",
       "\n",
       "    // Apply a ponyfill if ResizeObserver is not implemented by browser.\n",
       "    if (this.ResizeObserver === undefined) {\n",
       "        if (window.ResizeObserver !== undefined) {\n",
       "            this.ResizeObserver = window.ResizeObserver;\n",
       "        } else {\n",
       "            var obs = _JSXTOOLS_RESIZE_OBSERVER({});\n",
       "            this.ResizeObserver = obs.ResizeObserver;\n",
       "        }\n",
       "    }\n",
       "\n",
       "    this.resizeObserverInstance = new this.ResizeObserver(function (entries) {\n",
       "        var nentries = entries.length;\n",
       "        for (var i = 0; i < nentries; i++) {\n",
       "            var entry = entries[i];\n",
       "            var width, height;\n",
       "            if (entry.contentBoxSize) {\n",
       "                if (entry.contentBoxSize instanceof Array) {\n",
       "                    // Chrome 84 implements new version of spec.\n",
       "                    width = entry.contentBoxSize[0].inlineSize;\n",
       "                    height = entry.contentBoxSize[0].blockSize;\n",
       "                } else {\n",
       "                    // Firefox implements old version of spec.\n",
       "                    width = entry.contentBoxSize.inlineSize;\n",
       "                    height = entry.contentBoxSize.blockSize;\n",
       "                }\n",
       "            } else {\n",
       "                // Chrome <84 implements even older version of spec.\n",
       "                width = entry.contentRect.width;\n",
       "                height = entry.contentRect.height;\n",
       "            }\n",
       "\n",
       "            // Keep the size of the canvas and rubber band canvas in sync with\n",
       "            // the canvas container.\n",
       "            if (entry.devicePixelContentBoxSize) {\n",
       "                // Chrome 84 implements new version of spec.\n",
       "                canvas.setAttribute(\n",
       "                    'width',\n",
       "                    entry.devicePixelContentBoxSize[0].inlineSize\n",
       "                );\n",
       "                canvas.setAttribute(\n",
       "                    'height',\n",
       "                    entry.devicePixelContentBoxSize[0].blockSize\n",
       "                );\n",
       "            } else {\n",
       "                canvas.setAttribute('width', width * fig.ratio);\n",
       "                canvas.setAttribute('height', height * fig.ratio);\n",
       "            }\n",
       "            canvas.setAttribute(\n",
       "                'style',\n",
       "                'width: ' + width + 'px; height: ' + height + 'px;'\n",
       "            );\n",
       "\n",
       "            rubberband_canvas.setAttribute('width', width);\n",
       "            rubberband_canvas.setAttribute('height', height);\n",
       "\n",
       "            // And update the size in Python. We ignore the initial 0/0 size\n",
       "            // that occurs as the element is placed into the DOM, which should\n",
       "            // otherwise not happen due to the minimum size styling.\n",
       "            if (fig.ws.readyState == 1 && width != 0 && height != 0) {\n",
       "                fig.request_resize(width, height);\n",
       "            }\n",
       "        }\n",
       "    });\n",
       "    this.resizeObserverInstance.observe(canvas_div);\n",
       "\n",
       "    function on_mouse_event_closure(name) {\n",
       "        return function (event) {\n",
       "            return fig.mouse_event(event, name);\n",
       "        };\n",
       "    }\n",
       "\n",
       "    rubberband_canvas.addEventListener(\n",
       "        'mousedown',\n",
       "        on_mouse_event_closure('button_press')\n",
       "    );\n",
       "    rubberband_canvas.addEventListener(\n",
       "        'mouseup',\n",
       "        on_mouse_event_closure('button_release')\n",
       "    );\n",
       "    rubberband_canvas.addEventListener(\n",
       "        'dblclick',\n",
       "        on_mouse_event_closure('dblclick')\n",
       "    );\n",
       "    // Throttle sequential mouse events to 1 every 20ms.\n",
       "    rubberband_canvas.addEventListener(\n",
       "        'mousemove',\n",
       "        on_mouse_event_closure('motion_notify')\n",
       "    );\n",
       "\n",
       "    rubberband_canvas.addEventListener(\n",
       "        'mouseenter',\n",
       "        on_mouse_event_closure('figure_enter')\n",
       "    );\n",
       "    rubberband_canvas.addEventListener(\n",
       "        'mouseleave',\n",
       "        on_mouse_event_closure('figure_leave')\n",
       "    );\n",
       "\n",
       "    canvas_div.addEventListener('wheel', function (event) {\n",
       "        if (event.deltaY < 0) {\n",
       "            event.step = 1;\n",
       "        } else {\n",
       "            event.step = -1;\n",
       "        }\n",
       "        on_mouse_event_closure('scroll')(event);\n",
       "    });\n",
       "\n",
       "    canvas_div.appendChild(canvas);\n",
       "    canvas_div.appendChild(rubberband_canvas);\n",
       "\n",
       "    this.rubberband_context = rubberband_canvas.getContext('2d');\n",
       "    this.rubberband_context.strokeStyle = '#000000';\n",
       "\n",
       "    this._resize_canvas = function (width, height, forward) {\n",
       "        if (forward) {\n",
       "            canvas_div.style.width = width + 'px';\n",
       "            canvas_div.style.height = height + 'px';\n",
       "        }\n",
       "    };\n",
       "\n",
       "    // Disable right mouse context menu.\n",
       "    this.rubberband_canvas.addEventListener('contextmenu', function (_e) {\n",
       "        event.preventDefault();\n",
       "        return false;\n",
       "    });\n",
       "\n",
       "    function set_focus() {\n",
       "        canvas.focus();\n",
       "        canvas_div.focus();\n",
       "    }\n",
       "\n",
       "    window.setTimeout(set_focus, 100);\n",
       "};\n",
       "\n",
       "mpl.figure.prototype._init_toolbar = function () {\n",
       "    var fig = this;\n",
       "\n",
       "    var toolbar = document.createElement('div');\n",
       "    toolbar.classList = 'mpl-toolbar';\n",
       "    this.root.appendChild(toolbar);\n",
       "\n",
       "    function on_click_closure(name) {\n",
       "        return function (_event) {\n",
       "            return fig.toolbar_button_onclick(name);\n",
       "        };\n",
       "    }\n",
       "\n",
       "    function on_mouseover_closure(tooltip) {\n",
       "        return function (event) {\n",
       "            if (!event.currentTarget.disabled) {\n",
       "                return fig.toolbar_button_onmouseover(tooltip);\n",
       "            }\n",
       "        };\n",
       "    }\n",
       "\n",
       "    fig.buttons = {};\n",
       "    var buttonGroup = document.createElement('div');\n",
       "    buttonGroup.classList = 'mpl-button-group';\n",
       "    for (var toolbar_ind in mpl.toolbar_items) {\n",
       "        var name = mpl.toolbar_items[toolbar_ind][0];\n",
       "        var tooltip = mpl.toolbar_items[toolbar_ind][1];\n",
       "        var image = mpl.toolbar_items[toolbar_ind][2];\n",
       "        var method_name = mpl.toolbar_items[toolbar_ind][3];\n",
       "\n",
       "        if (!name) {\n",
       "            /* Instead of a spacer, we start a new button group. */\n",
       "            if (buttonGroup.hasChildNodes()) {\n",
       "                toolbar.appendChild(buttonGroup);\n",
       "            }\n",
       "            buttonGroup = document.createElement('div');\n",
       "            buttonGroup.classList = 'mpl-button-group';\n",
       "            continue;\n",
       "        }\n",
       "\n",
       "        var button = (fig.buttons[name] = document.createElement('button'));\n",
       "        button.classList = 'mpl-widget';\n",
       "        button.setAttribute('role', 'button');\n",
       "        button.setAttribute('aria-disabled', 'false');\n",
       "        button.addEventListener('click', on_click_closure(method_name));\n",
       "        button.addEventListener('mouseover', on_mouseover_closure(tooltip));\n",
       "\n",
       "        var icon_img = document.createElement('img');\n",
       "        icon_img.src = '_images/' + image + '.png';\n",
       "        icon_img.srcset = '_images/' + image + '_large.png 2x';\n",
       "        icon_img.alt = tooltip;\n",
       "        button.appendChild(icon_img);\n",
       "\n",
       "        buttonGroup.appendChild(button);\n",
       "    }\n",
       "\n",
       "    if (buttonGroup.hasChildNodes()) {\n",
       "        toolbar.appendChild(buttonGroup);\n",
       "    }\n",
       "\n",
       "    var fmt_picker = document.createElement('select');\n",
       "    fmt_picker.classList = 'mpl-widget';\n",
       "    toolbar.appendChild(fmt_picker);\n",
       "    this.format_dropdown = fmt_picker;\n",
       "\n",
       "    for (var ind in mpl.extensions) {\n",
       "        var fmt = mpl.extensions[ind];\n",
       "        var option = document.createElement('option');\n",
       "        option.selected = fmt === mpl.default_extension;\n",
       "        option.innerHTML = fmt;\n",
       "        fmt_picker.appendChild(option);\n",
       "    }\n",
       "\n",
       "    var status_bar = document.createElement('span');\n",
       "    status_bar.classList = 'mpl-message';\n",
       "    toolbar.appendChild(status_bar);\n",
       "    this.message = status_bar;\n",
       "};\n",
       "\n",
       "mpl.figure.prototype.request_resize = function (x_pixels, y_pixels) {\n",
       "    // Request matplotlib to resize the figure. Matplotlib will then trigger a resize in the client,\n",
       "    // which will in turn request a refresh of the image.\n",
       "    this.send_message('resize', { width: x_pixels, height: y_pixels });\n",
       "};\n",
       "\n",
       "mpl.figure.prototype.send_message = function (type, properties) {\n",
       "    properties['type'] = type;\n",
       "    properties['figure_id'] = this.id;\n",
       "    this.ws.send(JSON.stringify(properties));\n",
       "};\n",
       "\n",
       "mpl.figure.prototype.send_draw_message = function () {\n",
       "    if (!this.waiting) {\n",
       "        this.waiting = true;\n",
       "        this.ws.send(JSON.stringify({ type: 'draw', figure_id: this.id }));\n",
       "    }\n",
       "};\n",
       "\n",
       "mpl.figure.prototype.handle_save = function (fig, _msg) {\n",
       "    var format_dropdown = fig.format_dropdown;\n",
       "    var format = format_dropdown.options[format_dropdown.selectedIndex].value;\n",
       "    fig.ondownload(fig, format);\n",
       "};\n",
       "\n",
       "mpl.figure.prototype.handle_resize = function (fig, msg) {\n",
       "    var size = msg['size'];\n",
       "    if (size[0] !== fig.canvas.width || size[1] !== fig.canvas.height) {\n",
       "        fig._resize_canvas(size[0], size[1], msg['forward']);\n",
       "        fig.send_message('refresh', {});\n",
       "    }\n",
       "};\n",
       "\n",
       "mpl.figure.prototype.handle_rubberband = function (fig, msg) {\n",
       "    var x0 = msg['x0'] / fig.ratio;\n",
       "    var y0 = (fig.canvas.height - msg['y0']) / fig.ratio;\n",
       "    var x1 = msg['x1'] / fig.ratio;\n",
       "    var y1 = (fig.canvas.height - msg['y1']) / fig.ratio;\n",
       "    x0 = Math.floor(x0) + 0.5;\n",
       "    y0 = Math.floor(y0) + 0.5;\n",
       "    x1 = Math.floor(x1) + 0.5;\n",
       "    y1 = Math.floor(y1) + 0.5;\n",
       "    var min_x = Math.min(x0, x1);\n",
       "    var min_y = Math.min(y0, y1);\n",
       "    var width = Math.abs(x1 - x0);\n",
       "    var height = Math.abs(y1 - y0);\n",
       "\n",
       "    fig.rubberband_context.clearRect(\n",
       "        0,\n",
       "        0,\n",
       "        fig.canvas.width / fig.ratio,\n",
       "        fig.canvas.height / fig.ratio\n",
       "    );\n",
       "\n",
       "    fig.rubberband_context.strokeRect(min_x, min_y, width, height);\n",
       "};\n",
       "\n",
       "mpl.figure.prototype.handle_figure_label = function (fig, msg) {\n",
       "    // Updates the figure title.\n",
       "    fig.header.textContent = msg['label'];\n",
       "};\n",
       "\n",
       "mpl.figure.prototype.handle_cursor = function (fig, msg) {\n",
       "    fig.rubberband_canvas.style.cursor = msg['cursor'];\n",
       "};\n",
       "\n",
       "mpl.figure.prototype.handle_message = function (fig, msg) {\n",
       "    fig.message.textContent = msg['message'];\n",
       "};\n",
       "\n",
       "mpl.figure.prototype.handle_draw = function (fig, _msg) {\n",
       "    // Request the server to send over a new figure.\n",
       "    fig.send_draw_message();\n",
       "};\n",
       "\n",
       "mpl.figure.prototype.handle_image_mode = function (fig, msg) {\n",
       "    fig.image_mode = msg['mode'];\n",
       "};\n",
       "\n",
       "mpl.figure.prototype.handle_history_buttons = function (fig, msg) {\n",
       "    for (var key in msg) {\n",
       "        if (!(key in fig.buttons)) {\n",
       "            continue;\n",
       "        }\n",
       "        fig.buttons[key].disabled = !msg[key];\n",
       "        fig.buttons[key].setAttribute('aria-disabled', !msg[key]);\n",
       "    }\n",
       "};\n",
       "\n",
       "mpl.figure.prototype.handle_navigate_mode = function (fig, msg) {\n",
       "    if (msg['mode'] === 'PAN') {\n",
       "        fig.buttons['Pan'].classList.add('active');\n",
       "        fig.buttons['Zoom'].classList.remove('active');\n",
       "    } else if (msg['mode'] === 'ZOOM') {\n",
       "        fig.buttons['Pan'].classList.remove('active');\n",
       "        fig.buttons['Zoom'].classList.add('active');\n",
       "    } else {\n",
       "        fig.buttons['Pan'].classList.remove('active');\n",
       "        fig.buttons['Zoom'].classList.remove('active');\n",
       "    }\n",
       "};\n",
       "\n",
       "mpl.figure.prototype.updated_canvas_event = function () {\n",
       "    // Called whenever the canvas gets updated.\n",
       "    this.send_message('ack', {});\n",
       "};\n",
       "\n",
       "// A function to construct a web socket function for onmessage handling.\n",
       "// Called in the figure constructor.\n",
       "mpl.figure.prototype._make_on_message_function = function (fig) {\n",
       "    return function socket_on_message(evt) {\n",
       "        if (evt.data instanceof Blob) {\n",
       "            var img = evt.data;\n",
       "            if (img.type !== 'image/png') {\n",
       "                /* FIXME: We get \"Resource interpreted as Image but\n",
       "                 * transferred with MIME type text/plain:\" errors on\n",
       "                 * Chrome.  But how to set the MIME type?  It doesn't seem\n",
       "                 * to be part of the websocket stream */\n",
       "                img.type = 'image/png';\n",
       "            }\n",
       "\n",
       "            /* Free the memory for the previous frames */\n",
       "            if (fig.imageObj.src) {\n",
       "                (window.URL || window.webkitURL).revokeObjectURL(\n",
       "                    fig.imageObj.src\n",
       "                );\n",
       "            }\n",
       "\n",
       "            fig.imageObj.src = (window.URL || window.webkitURL).createObjectURL(\n",
       "                img\n",
       "            );\n",
       "            fig.updated_canvas_event();\n",
       "            fig.waiting = false;\n",
       "            return;\n",
       "        } else if (\n",
       "            typeof evt.data === 'string' &&\n",
       "            evt.data.slice(0, 21) === 'data:image/png;base64'\n",
       "        ) {\n",
       "            fig.imageObj.src = evt.data;\n",
       "            fig.updated_canvas_event();\n",
       "            fig.waiting = false;\n",
       "            return;\n",
       "        }\n",
       "\n",
       "        var msg = JSON.parse(evt.data);\n",
       "        var msg_type = msg['type'];\n",
       "\n",
       "        // Call the  \"handle_{type}\" callback, which takes\n",
       "        // the figure and JSON message as its only arguments.\n",
       "        try {\n",
       "            var callback = fig['handle_' + msg_type];\n",
       "        } catch (e) {\n",
       "            console.log(\n",
       "                \"No handler for the '\" + msg_type + \"' message type: \",\n",
       "                msg\n",
       "            );\n",
       "            return;\n",
       "        }\n",
       "\n",
       "        if (callback) {\n",
       "            try {\n",
       "                // console.log(\"Handling '\" + msg_type + \"' message: \", msg);\n",
       "                callback(fig, msg);\n",
       "            } catch (e) {\n",
       "                console.log(\n",
       "                    \"Exception inside the 'handler_\" + msg_type + \"' callback:\",\n",
       "                    e,\n",
       "                    e.stack,\n",
       "                    msg\n",
       "                );\n",
       "            }\n",
       "        }\n",
       "    };\n",
       "};\n",
       "\n",
       "// from https://stackoverflow.com/questions/1114465/getting-mouse-location-in-canvas\n",
       "mpl.findpos = function (e) {\n",
       "    //this section is from http://www.quirksmode.org/js/events_properties.html\n",
       "    var targ;\n",
       "    if (!e) {\n",
       "        e = window.event;\n",
       "    }\n",
       "    if (e.target) {\n",
       "        targ = e.target;\n",
       "    } else if (e.srcElement) {\n",
       "        targ = e.srcElement;\n",
       "    }\n",
       "    if (targ.nodeType === 3) {\n",
       "        // defeat Safari bug\n",
       "        targ = targ.parentNode;\n",
       "    }\n",
       "\n",
       "    // pageX,Y are the mouse positions relative to the document\n",
       "    var boundingRect = targ.getBoundingClientRect();\n",
       "    var x = e.pageX - (boundingRect.left + document.body.scrollLeft);\n",
       "    var y = e.pageY - (boundingRect.top + document.body.scrollTop);\n",
       "\n",
       "    return { x: x, y: y };\n",
       "};\n",
       "\n",
       "/*\n",
       " * return a copy of an object with only non-object keys\n",
       " * we need this to avoid circular references\n",
       " * https://stackoverflow.com/a/24161582/3208463\n",
       " */\n",
       "function simpleKeys(original) {\n",
       "    return Object.keys(original).reduce(function (obj, key) {\n",
       "        if (typeof original[key] !== 'object') {\n",
       "            obj[key] = original[key];\n",
       "        }\n",
       "        return obj;\n",
       "    }, {});\n",
       "}\n",
       "\n",
       "mpl.figure.prototype.mouse_event = function (event, name) {\n",
       "    var canvas_pos = mpl.findpos(event);\n",
       "\n",
       "    if (name === 'button_press') {\n",
       "        this.canvas.focus();\n",
       "        this.canvas_div.focus();\n",
       "    }\n",
       "\n",
       "    var x = canvas_pos.x * this.ratio;\n",
       "    var y = canvas_pos.y * this.ratio;\n",
       "\n",
       "    this.send_message(name, {\n",
       "        x: x,\n",
       "        y: y,\n",
       "        button: event.button,\n",
       "        step: event.step,\n",
       "        guiEvent: simpleKeys(event),\n",
       "    });\n",
       "\n",
       "    /* This prevents the web browser from automatically changing to\n",
       "     * the text insertion cursor when the button is pressed.  We want\n",
       "     * to control all of the cursor setting manually through the\n",
       "     * 'cursor' event from matplotlib */\n",
       "    event.preventDefault();\n",
       "    return false;\n",
       "};\n",
       "\n",
       "mpl.figure.prototype._key_event_extra = function (_event, _name) {\n",
       "    // Handle any extra behaviour associated with a key event\n",
       "};\n",
       "\n",
       "mpl.figure.prototype.key_event = function (event, name) {\n",
       "    // Prevent repeat events\n",
       "    if (name === 'key_press') {\n",
       "        if (event.key === this._key) {\n",
       "            return;\n",
       "        } else {\n",
       "            this._key = event.key;\n",
       "        }\n",
       "    }\n",
       "    if (name === 'key_release') {\n",
       "        this._key = null;\n",
       "    }\n",
       "\n",
       "    var value = '';\n",
       "    if (event.ctrlKey && event.key !== 'Control') {\n",
       "        value += 'ctrl+';\n",
       "    }\n",
       "    else if (event.altKey && event.key !== 'Alt') {\n",
       "        value += 'alt+';\n",
       "    }\n",
       "    else if (event.shiftKey && event.key !== 'Shift') {\n",
       "        value += 'shift+';\n",
       "    }\n",
       "\n",
       "    value += 'k' + event.key;\n",
       "\n",
       "    this._key_event_extra(event, name);\n",
       "\n",
       "    this.send_message(name, { key: value, guiEvent: simpleKeys(event) });\n",
       "    return false;\n",
       "};\n",
       "\n",
       "mpl.figure.prototype.toolbar_button_onclick = function (name) {\n",
       "    if (name === 'download') {\n",
       "        this.handle_save(this, null);\n",
       "    } else {\n",
       "        this.send_message('toolbar_button', { name: name });\n",
       "    }\n",
       "};\n",
       "\n",
       "mpl.figure.prototype.toolbar_button_onmouseover = function (tooltip) {\n",
       "    this.message.textContent = tooltip;\n",
       "};\n",
       "\n",
       "///////////////// REMAINING CONTENT GENERATED BY embed_js.py /////////////////\n",
       "// prettier-ignore\n",
       "var _JSXTOOLS_RESIZE_OBSERVER=function(A){var t,i=new WeakMap,n=new WeakMap,a=new WeakMap,r=new WeakMap,o=new Set;function s(e){if(!(this instanceof s))throw new TypeError(\"Constructor requires 'new' operator\");i.set(this,e)}function h(){throw new TypeError(\"Function is not a constructor\")}function c(e,t,i,n){e=0 in arguments?Number(arguments[0]):0,t=1 in arguments?Number(arguments[1]):0,i=2 in arguments?Number(arguments[2]):0,n=3 in arguments?Number(arguments[3]):0,this.right=(this.x=this.left=e)+(this.width=i),this.bottom=(this.y=this.top=t)+(this.height=n),Object.freeze(this)}function d(){t=requestAnimationFrame(d);var s=new WeakMap,p=new Set;o.forEach((function(t){r.get(t).forEach((function(i){var r=t instanceof window.SVGElement,o=a.get(t),d=r?0:parseFloat(o.paddingTop),f=r?0:parseFloat(o.paddingRight),l=r?0:parseFloat(o.paddingBottom),u=r?0:parseFloat(o.paddingLeft),g=r?0:parseFloat(o.borderTopWidth),m=r?0:parseFloat(o.borderRightWidth),w=r?0:parseFloat(o.borderBottomWidth),b=u+f,F=d+l,v=(r?0:parseFloat(o.borderLeftWidth))+m,W=g+w,y=r?0:t.offsetHeight-W-t.clientHeight,E=r?0:t.offsetWidth-v-t.clientWidth,R=b+v,z=F+W,M=r?t.width:parseFloat(o.width)-R-E,O=r?t.height:parseFloat(o.height)-z-y;if(n.has(t)){var k=n.get(t);if(k[0]===M&&k[1]===O)return}n.set(t,[M,O]);var S=Object.create(h.prototype);S.target=t,S.contentRect=new c(u,d,M,O),s.has(i)||(s.set(i,[]),p.add(i)),s.get(i).push(S)}))})),p.forEach((function(e){i.get(e).call(e,s.get(e),e)}))}return s.prototype.observe=function(i){if(i instanceof window.Element){r.has(i)||(r.set(i,new Set),o.add(i),a.set(i,window.getComputedStyle(i)));var n=r.get(i);n.has(this)||n.add(this),cancelAnimationFrame(t),t=requestAnimationFrame(d)}},s.prototype.unobserve=function(i){if(i instanceof window.Element&&r.has(i)){var n=r.get(i);n.has(this)&&(n.delete(this),n.size||(r.delete(i),o.delete(i))),n.size||r.delete(i),o.size||cancelAnimationFrame(t)}},A.DOMRectReadOnly=c,A.ResizeObserver=s,A.ResizeObserverEntry=h,A}; // eslint-disable-line\n",
       "mpl.toolbar_items = [[\"Home\", \"Reset original view\", \"fa fa-home icon-home\", \"home\"], [\"Back\", \"Back to previous view\", \"fa fa-arrow-left icon-arrow-left\", \"back\"], [\"Forward\", \"Forward to next view\", \"fa fa-arrow-right icon-arrow-right\", \"forward\"], [\"\", \"\", \"\", \"\"], [\"Pan\", \"Left button pans, Right button zooms\\nx/y fixes axis, CTRL fixes aspect\", \"fa fa-arrows icon-move\", \"pan\"], [\"Zoom\", \"Zoom to rectangle\\nx/y fixes axis\", \"fa fa-square-o icon-check-empty\", \"zoom\"], [\"\", \"\", \"\", \"\"], [\"Download\", \"Download plot\", \"fa fa-floppy-o icon-save\", \"download\"]];\n",
       "\n",
       "mpl.extensions = [\"eps\", \"jpeg\", \"pgf\", \"pdf\", \"png\", \"ps\", \"raw\", \"svg\", \"tif\"];\n",
       "\n",
       "mpl.default_extension = \"png\";/* global mpl */\n",
       "\n",
       "var comm_websocket_adapter = function (comm) {\n",
       "    // Create a \"websocket\"-like object which calls the given IPython comm\n",
       "    // object with the appropriate methods. Currently this is a non binary\n",
       "    // socket, so there is still some room for performance tuning.\n",
       "    var ws = {};\n",
       "\n",
       "    ws.binaryType = comm.kernel.ws.binaryType;\n",
       "    ws.readyState = comm.kernel.ws.readyState;\n",
       "    function updateReadyState(_event) {\n",
       "        if (comm.kernel.ws) {\n",
       "            ws.readyState = comm.kernel.ws.readyState;\n",
       "        } else {\n",
       "            ws.readyState = 3; // Closed state.\n",
       "        }\n",
       "    }\n",
       "    comm.kernel.ws.addEventListener('open', updateReadyState);\n",
       "    comm.kernel.ws.addEventListener('close', updateReadyState);\n",
       "    comm.kernel.ws.addEventListener('error', updateReadyState);\n",
       "\n",
       "    ws.close = function () {\n",
       "        comm.close();\n",
       "    };\n",
       "    ws.send = function (m) {\n",
       "        //console.log('sending', m);\n",
       "        comm.send(m);\n",
       "    };\n",
       "    // Register the callback with on_msg.\n",
       "    comm.on_msg(function (msg) {\n",
       "        //console.log('receiving', msg['content']['data'], msg);\n",
       "        var data = msg['content']['data'];\n",
       "        if (data['blob'] !== undefined) {\n",
       "            data = {\n",
       "                data: new Blob(msg['buffers'], { type: data['blob'] }),\n",
       "            };\n",
       "        }\n",
       "        // Pass the mpl event to the overridden (by mpl) onmessage function.\n",
       "        ws.onmessage(data);\n",
       "    });\n",
       "    return ws;\n",
       "};\n",
       "\n",
       "mpl.mpl_figure_comm = function (comm, msg) {\n",
       "    // This is the function which gets called when the mpl process\n",
       "    // starts-up an IPython Comm through the \"matplotlib\" channel.\n",
       "\n",
       "    var id = msg.content.data.id;\n",
       "    // Get hold of the div created by the display call when the Comm\n",
       "    // socket was opened in Python.\n",
       "    var element = document.getElementById(id);\n",
       "    var ws_proxy = comm_websocket_adapter(comm);\n",
       "\n",
       "    function ondownload(figure, _format) {\n",
       "        window.open(figure.canvas.toDataURL());\n",
       "    }\n",
       "\n",
       "    var fig = new mpl.figure(id, ws_proxy, ondownload, element);\n",
       "\n",
       "    // Call onopen now - mpl needs it, as it is assuming we've passed it a real\n",
       "    // web socket which is closed, not our websocket->open comm proxy.\n",
       "    ws_proxy.onopen();\n",
       "\n",
       "    fig.parent_element = element;\n",
       "    fig.cell_info = mpl.find_output_cell(\"<div id='\" + id + \"'></div>\");\n",
       "    if (!fig.cell_info) {\n",
       "        console.error('Failed to find cell for figure', id, fig);\n",
       "        return;\n",
       "    }\n",
       "    fig.cell_info[0].output_area.element.on(\n",
       "        'cleared',\n",
       "        { fig: fig },\n",
       "        fig._remove_fig_handler\n",
       "    );\n",
       "};\n",
       "\n",
       "mpl.figure.prototype.handle_close = function (fig, msg) {\n",
       "    var width = fig.canvas.width / fig.ratio;\n",
       "    fig.cell_info[0].output_area.element.off(\n",
       "        'cleared',\n",
       "        fig._remove_fig_handler\n",
       "    );\n",
       "    fig.resizeObserverInstance.unobserve(fig.canvas_div);\n",
       "\n",
       "    // Update the output cell to use the data from the current canvas.\n",
       "    fig.push_to_output();\n",
       "    var dataURL = fig.canvas.toDataURL();\n",
       "    // Re-enable the keyboard manager in IPython - without this line, in FF,\n",
       "    // the notebook keyboard shortcuts fail.\n",
       "    IPython.keyboard_manager.enable();\n",
       "    fig.parent_element.innerHTML =\n",
       "        '<img src=\"' + dataURL + '\" width=\"' + width + '\">';\n",
       "    fig.close_ws(fig, msg);\n",
       "};\n",
       "\n",
       "mpl.figure.prototype.close_ws = function (fig, msg) {\n",
       "    fig.send_message('closing', msg);\n",
       "    // fig.ws.close()\n",
       "};\n",
       "\n",
       "mpl.figure.prototype.push_to_output = function (_remove_interactive) {\n",
       "    // Turn the data on the canvas into data in the output cell.\n",
       "    var width = this.canvas.width / this.ratio;\n",
       "    var dataURL = this.canvas.toDataURL();\n",
       "    this.cell_info[1]['text/html'] =\n",
       "        '<img src=\"' + dataURL + '\" width=\"' + width + '\">';\n",
       "};\n",
       "\n",
       "mpl.figure.prototype.updated_canvas_event = function () {\n",
       "    // Tell IPython that the notebook contents must change.\n",
       "    IPython.notebook.set_dirty(true);\n",
       "    this.send_message('ack', {});\n",
       "    var fig = this;\n",
       "    // Wait a second, then push the new image to the DOM so\n",
       "    // that it is saved nicely (might be nice to debounce this).\n",
       "    setTimeout(function () {\n",
       "        fig.push_to_output();\n",
       "    }, 1000);\n",
       "};\n",
       "\n",
       "mpl.figure.prototype._init_toolbar = function () {\n",
       "    var fig = this;\n",
       "\n",
       "    var toolbar = document.createElement('div');\n",
       "    toolbar.classList = 'btn-toolbar';\n",
       "    this.root.appendChild(toolbar);\n",
       "\n",
       "    function on_click_closure(name) {\n",
       "        return function (_event) {\n",
       "            return fig.toolbar_button_onclick(name);\n",
       "        };\n",
       "    }\n",
       "\n",
       "    function on_mouseover_closure(tooltip) {\n",
       "        return function (event) {\n",
       "            if (!event.currentTarget.disabled) {\n",
       "                return fig.toolbar_button_onmouseover(tooltip);\n",
       "            }\n",
       "        };\n",
       "    }\n",
       "\n",
       "    fig.buttons = {};\n",
       "    var buttonGroup = document.createElement('div');\n",
       "    buttonGroup.classList = 'btn-group';\n",
       "    var button;\n",
       "    for (var toolbar_ind in mpl.toolbar_items) {\n",
       "        var name = mpl.toolbar_items[toolbar_ind][0];\n",
       "        var tooltip = mpl.toolbar_items[toolbar_ind][1];\n",
       "        var image = mpl.toolbar_items[toolbar_ind][2];\n",
       "        var method_name = mpl.toolbar_items[toolbar_ind][3];\n",
       "\n",
       "        if (!name) {\n",
       "            /* Instead of a spacer, we start a new button group. */\n",
       "            if (buttonGroup.hasChildNodes()) {\n",
       "                toolbar.appendChild(buttonGroup);\n",
       "            }\n",
       "            buttonGroup = document.createElement('div');\n",
       "            buttonGroup.classList = 'btn-group';\n",
       "            continue;\n",
       "        }\n",
       "\n",
       "        button = fig.buttons[name] = document.createElement('button');\n",
       "        button.classList = 'btn btn-default';\n",
       "        button.href = '#';\n",
       "        button.title = name;\n",
       "        button.innerHTML = '<i class=\"fa ' + image + ' fa-lg\"></i>';\n",
       "        button.addEventListener('click', on_click_closure(method_name));\n",
       "        button.addEventListener('mouseover', on_mouseover_closure(tooltip));\n",
       "        buttonGroup.appendChild(button);\n",
       "    }\n",
       "\n",
       "    if (buttonGroup.hasChildNodes()) {\n",
       "        toolbar.appendChild(buttonGroup);\n",
       "    }\n",
       "\n",
       "    // Add the status bar.\n",
       "    var status_bar = document.createElement('span');\n",
       "    status_bar.classList = 'mpl-message pull-right';\n",
       "    toolbar.appendChild(status_bar);\n",
       "    this.message = status_bar;\n",
       "\n",
       "    // Add the close button to the window.\n",
       "    var buttongrp = document.createElement('div');\n",
       "    buttongrp.classList = 'btn-group inline pull-right';\n",
       "    button = document.createElement('button');\n",
       "    button.classList = 'btn btn-mini btn-primary';\n",
       "    button.href = '#';\n",
       "    button.title = 'Stop Interaction';\n",
       "    button.innerHTML = '<i class=\"fa fa-power-off icon-remove icon-large\"></i>';\n",
       "    button.addEventListener('click', function (_evt) {\n",
       "        fig.handle_close(fig, {});\n",
       "    });\n",
       "    button.addEventListener(\n",
       "        'mouseover',\n",
       "        on_mouseover_closure('Stop Interaction')\n",
       "    );\n",
       "    buttongrp.appendChild(button);\n",
       "    var titlebar = this.root.querySelector('.ui-dialog-titlebar');\n",
       "    titlebar.insertBefore(buttongrp, titlebar.firstChild);\n",
       "};\n",
       "\n",
       "mpl.figure.prototype._remove_fig_handler = function (event) {\n",
       "    var fig = event.data.fig;\n",
       "    if (event.target !== this) {\n",
       "        // Ignore bubbled events from children.\n",
       "        return;\n",
       "    }\n",
       "    fig.close_ws(fig, {});\n",
       "};\n",
       "\n",
       "mpl.figure.prototype._root_extra_style = function (el) {\n",
       "    el.style.boxSizing = 'content-box'; // override notebook setting of border-box.\n",
       "};\n",
       "\n",
       "mpl.figure.prototype._canvas_extra_style = function (el) {\n",
       "    // this is important to make the div 'focusable\n",
       "    el.setAttribute('tabindex', 0);\n",
       "    // reach out to IPython and tell the keyboard manager to turn it's self\n",
       "    // off when our div gets focus\n",
       "\n",
       "    // location in version 3\n",
       "    if (IPython.notebook.keyboard_manager) {\n",
       "        IPython.notebook.keyboard_manager.register_events(el);\n",
       "    } else {\n",
       "        // location in version 2\n",
       "        IPython.keyboard_manager.register_events(el);\n",
       "    }\n",
       "};\n",
       "\n",
       "mpl.figure.prototype._key_event_extra = function (event, _name) {\n",
       "    // Check for shift+enter\n",
       "    if (event.shiftKey && event.which === 13) {\n",
       "        this.canvas_div.blur();\n",
       "        // select the cell after this one\n",
       "        var index = IPython.notebook.find_cell_index(this.cell_info[0]);\n",
       "        IPython.notebook.select(index + 1);\n",
       "    }\n",
       "};\n",
       "\n",
       "mpl.figure.prototype.handle_save = function (fig, _msg) {\n",
       "    fig.ondownload(fig, null);\n",
       "};\n",
       "\n",
       "mpl.find_output_cell = function (html_output) {\n",
       "    // Return the cell and output element which can be found *uniquely* in the notebook.\n",
       "    // Note - this is a bit hacky, but it is done because the \"notebook_saving.Notebook\"\n",
       "    // IPython event is triggered only after the cells have been serialised, which for\n",
       "    // our purposes (turning an active figure into a static one), is too late.\n",
       "    var cells = IPython.notebook.get_cells();\n",
       "    var ncells = cells.length;\n",
       "    for (var i = 0; i < ncells; i++) {\n",
       "        var cell = cells[i];\n",
       "        if (cell.cell_type === 'code') {\n",
       "            for (var j = 0; j < cell.output_area.outputs.length; j++) {\n",
       "                var data = cell.output_area.outputs[j];\n",
       "                if (data.data) {\n",
       "                    // IPython >= 3 moved mimebundle to data attribute of output\n",
       "                    data = data.data;\n",
       "                }\n",
       "                if (data['text/html'] === html_output) {\n",
       "                    return [cell, data, j];\n",
       "                }\n",
       "            }\n",
       "        }\n",
       "    }\n",
       "};\n",
       "\n",
       "// Register the function which deals with the matplotlib target/channel.\n",
       "// The kernel may be null if the page has been refreshed.\n",
       "if (IPython.notebook.kernel !== null) {\n",
       "    IPython.notebook.kernel.comm_manager.register_target(\n",
       "        'matplotlib',\n",
       "        mpl.mpl_figure_comm\n",
       "    );\n",
       "}\n"
      ],
      "text/plain": [
       "<IPython.core.display.Javascript object>"
      ]
     },
     "metadata": {},
     "output_type": "display_data"
    },
    {
     "data": {
      "text/html": [
       "<img src=\"data:image/png;base64,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\" width=\"640\">"
      ],
      "text/plain": [
       "<IPython.core.display.HTML object>"
      ]
     },
     "metadata": {},
     "output_type": "display_data"
    }
   ],
   "source": [
    "plt.figure()\n",
    "plt.gca().yaxis.set_major_formatter(mtick.PercentFormatter(1))\n",
    "\n",
    "plt.bar(x, vec_edge_on, color='cyan', label='Edge on')\n",
    "plt.bar(x, vec_barred, bottom=vec_edge_on, color='green', label='Barred')\n",
    "plt.bar(x, vec_not_barred, bottom=vec_edge_on+vec_barred, color='red', label='Not barred')\n",
    "plt.bar(x, vec_spiral_arms, bottom=vec_edge_on+vec_barred+vec_not_barred, color='yellow', label='Spiral arms')\n",
    "plt.bar(x, vec_completely_round, bottom=vec_edge_on+vec_barred+vec_not_barred+vec_spiral_arms, color='blue', \n",
    "        label='Completely round')\n",
    "plt.bar(x, vec_elliptic, bottom=vec_edge_on+vec_barred+vec_not_barred+vec_spiral_arms+vec_completely_round,\n",
    "       color='orange', label='Elliptic')\n",
    "plt.xlabel('Cluster')\n",
    "plt.ylabel('Galaxies')\n",
    "plt.legend()\n",
    "\n",
    "plt.savefig('bar_chart_updated.png', dpi=600)"
   ]
  },
  {
   "cell_type": "code",
   "execution_count": null,
   "id": "environmental-dialogue",
   "metadata": {
    "pycharm": {
     "is_executing": true,
     "name": "#%%\n"
    }
   },
   "outputs": [],
   "source": []
  }
 ],
 "metadata": {
  "kernelspec": {
   "display_name": "Python 3",
   "language": "python",
   "name": "python3"
  },
  "language_info": {
   "codemirror_mode": {
    "name": "ipython",
    "version": 3
   },
   "file_extension": ".py",
   "mimetype": "text/x-python",
   "name": "python",
   "nbconvert_exporter": "python",
   "pygments_lexer": "ipython3",
   "version": "3.8.11"
  }
 },
 "nbformat": 4,
 "nbformat_minor": 5
}