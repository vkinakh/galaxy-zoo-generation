{
 "cells": [
  {
   "cell_type": "code",
   "execution_count": 1,
   "id": "billion-shelf",
   "metadata": {
    "pycharm": {
     "name": "#%%\n"
    }
   },
   "outputs": [],
   "source": [
    "%reload_ext autoreload\n",
    "%autoreload 2\n",
    "%matplotlib notebook\n",
    "\n",
    "# Suppress warnings \n",
    "import warnings\n",
    "warnings.filterwarnings('ignore')"
   ]
  },
  {
   "cell_type": "markdown",
   "id": "minor-fraud",
   "metadata": {
    "pycharm": {
     "name": "#%% md\n"
    }
   },
   "source": [
    "# Visualize the latent space"
   ]
  },
  {
   "cell_type": "markdown",
   "id": "exceptional-label",
   "metadata": {
    "pycharm": {
     "name": "#%% md\n"
    }
   },
   "source": [
    "## Imports"
   ]
  },
  {
   "cell_type": "code",
   "execution_count": null,
   "outputs": [],
   "source": [
    "from collections import Counter\n",
    "\n",
    "from tqdm import tqdm\n",
    "import matplotlib.pyplot as plt\n",
    "import numpy as np\n",
    "\n",
    "from sklearn.manifold import TSNE\n",
    "from sklearn.cluster import KMeans\n",
    "\n",
    "import torch\n",
    "\n",
    "from src.metrics.distribution_measures import Encoder\n",
    "from src.data.dataset_updated import MakeDataLoader\n",
    "from src.utils import get_device"
   ],
   "metadata": {
    "collapsed": false,
    "pycharm": {
     "name": "#%%\n"
    }
   }
  },
  {
   "cell_type": "markdown",
   "source": [
    "## Configs|"
   ],
   "metadata": {
    "collapsed": false,
    "pycharm": {
     "name": "#%% md\n"
    }
   }
  },
  {
   "cell_type": "code",
   "execution_count": null,
   "outputs": [],
   "source": [
    "path_encoder = '../models/cVAE/parameter_state_dict_Encoder.pth'\n",
    "# dataset parameters\n",
    "folder_images = '/home/kinakh/Datasets/galaxy-zoo/images_training_rev1/'\n",
    "file_labels = '/home/kinakh/Datasets/galaxy-zoo/training_solutions_rev1.csv'\n",
    "size = 64\n",
    "augmented = False\n",
    "batch_size = 64\n",
    "\n",
    "device = get_device()"
   ],
   "metadata": {
    "collapsed": false,
    "pycharm": {
     "name": "#%%\n"
    }
   }
  },
  {
   "cell_type": "markdown",
   "source": [
    "## Load encoder"
   ],
   "metadata": {
    "collapsed": false,
    "pycharm": {
     "name": "#%% md\n"
    }
   }
  },
  {
   "cell_type": "code",
   "execution_count": null,
   "outputs": [],
   "source": [
    "encoder = Encoder()\n",
    "ckpt = torch.load(path_encoder)\n",
    "res = encoder.load_state_dict(ckpt)\n",
    "print(f'Loading: {res}')\n",
    "\n",
    "encoder.to(device)\n",
    "encoder.eval();"
   ],
   "metadata": {
    "collapsed": false,
    "pycharm": {
     "name": "#%%\n"
    }
   }
  },
  {
   "cell_type": "code",
   "execution_count": null,
   "outputs": [],
   "source": [
    "make_dl = MakeDataLoader(folder_images, file_labels, size, augmented=augmented)\n",
    "dl_train = make_dl.get_data_loader_full(batch_size=batch_size)"
   ],
   "metadata": {
    "collapsed": false,
    "pycharm": {
     "name": "#%%\n"
    }
   }
  },
  {
   "cell_type": "code",
   "execution_count": null,
   "outputs": [],
   "source": [
    "len(dl_train) * batch_size"
   ],
   "metadata": {
    "collapsed": false,
    "pycharm": {
     "name": "#%%\n"
    }
   }
  },
  {
   "cell_type": "markdown",
   "source": [
    "## Compute latents"
   ],
   "metadata": {
    "collapsed": false,
    "pycharm": {
     "name": "#%% md\n"
    }
   }
  },
  {
   "cell_type": "code",
   "execution_count": null,
   "outputs": [],
   "source": [
    "latents = []\n",
    "labels = []\n",
    "\n",
    "\n",
    "for images, lbl in tqdm(dl_train):\n",
    "    images = images.to(device)\n",
    "    labels.extend(lbl.detach().cpu().numpy())\n",
    "    \n",
    "    with torch.no_grad():\n",
    "        mu, _ = encoder(images)\n",
    "    latents.extend(mu.detach().cpu().numpy())\n",
    "print(f'Number of latents: {len(latents)}')\n",
    "latents = np.array(latents)\n",
    "labels = np.array(labels)"
   ],
   "metadata": {
    "collapsed": false,
    "pycharm": {
     "name": "#%%\n"
    }
   }
  },
  {
   "cell_type": "code",
   "execution_count": null,
   "outputs": [],
   "source": [
    "## Apply clustering"
   ],
   "metadata": {
    "collapsed": false,
    "pycharm": {
     "name": "#%%\n"
    }
   }
  },
  {
   "cell_type": "code",
   "execution_count": null,
   "outputs": [],
   "source": [
    "n_clusters=13\n",
    "kmeans = KMeans(n_clusters)\n",
    "\n",
    "kmeans.fit(labels)\n",
    "preds = kmeans.predict(labels)"
   ],
   "metadata": {
    "collapsed": false,
    "pycharm": {
     "name": "#%%\n"
    }
   }
  },
  {
   "cell_type": "code",
   "execution_count": null,
   "outputs": [],
   "source": [
    "labels_edge_on = labels[:, 3] > 0.9\n",
    "preds_edge_on = preds[labels[:, 3] > 0.9]\n",
    "\n",
    "len(preds_edge_on)"
   ],
   "metadata": {
    "collapsed": false,
    "pycharm": {
     "name": "#%%\n"
    }
   }
  },
  {
   "cell_type": "code",
   "execution_count": null,
   "outputs": [],
   "source": [
    "preds_barred = preds[labels[:, 5] > 0.9]\n",
    "len(preds_barred)"
   ],
   "metadata": {
    "collapsed": false,
    "pycharm": {
     "name": "#%%\n"
    }
   }
  },
  {
   "cell_type": "code",
   "execution_count": null,
   "outputs": [],
   "source": [
    "preds_not_barred = preds[labels[:, 6] > 0.9]\n",
    "len(preds_not_barred)"
   ],
   "metadata": {
    "collapsed": false,
    "pycharm": {
     "name": "#%%\n"
    }
   }
  },
  {
   "cell_type": "code",
   "execution_count": null,
   "outputs": [],
   "source": [
    "preds_spiral_arms = preds[labels[:,7] > 0.9]\n",
    "len(preds_spiral_arms)"
   ],
   "metadata": {
    "collapsed": false,
    "pycharm": {
     "name": "#%%\n"
    }
   }
  },
  {
   "cell_type": "code",
   "execution_count": null,
   "outputs": [],
   "source": [
    "preds_completely_round = preds[labels[:,15] > 0.9]\n",
    "len(preds_completely_round)"
   ],
   "metadata": {
    "collapsed": false,
    "pycharm": {
     "name": "#%%\n"
    }
   }
  },
  {
   "cell_type": "code",
   "execution_count": null,
   "outputs": [],
   "source": [
    "preds_elliptic = preds[labels[:,16] > 0.9]\n",
    "len(preds_elliptic)"
   ],
   "metadata": {
    "collapsed": false,
    "pycharm": {
     "name": "#%%\n"
    }
   }
  },
  {
   "cell_type": "code",
   "execution_count": null,
   "outputs": [],
   "source": [
    "preds_elliptic"
   ],
   "metadata": {
    "collapsed": false,
    "pycharm": {
     "name": "#%%\n"
    }
   }
  },
  {
   "cell_type": "code",
   "execution_count": null,
   "outputs": [],
   "source": [
    "count_edge_on = Counter(preds_edge_on)\n",
    "vec_edge_on = [0] * n_clusters\n",
    "\n",
    "for i in range(n_clusters):\n",
    "    if i in count_edge_on:\n",
    "        vec_edge_on[i] = count_edge_on[i]\n",
    "\n",
    "vec_edge_on"
   ],
   "metadata": {
    "collapsed": false,
    "pycharm": {
     "name": "#%%\n"
    }
   }
  },
  {
   "cell_type": "code",
   "execution_count": null,
   "outputs": [],
   "source": [
    "count_barred = Counter(preds_barred)\n",
    "vec_barred = [0] * n_clusters\n",
    "\n",
    "for i in range(n_clusters):\n",
    "    if i in count_barred:\n",
    "        vec_barred[i] = count_barred[i]\n",
    "vec_barred"
   ],
   "metadata": {
    "collapsed": false,
    "pycharm": {
     "name": "#%%\n"
    }
   }
  },
  {
   "cell_type": "code",
   "execution_count": null,
   "outputs": [],
   "source": [
    "count_not_barred = Counter(preds_not_barred)\n",
    "vec_not_barred = [0] * n_clusters\n",
    "\n",
    "for i in range(n_clusters):\n",
    "    if i in count_not_barred:\n",
    "        vec_not_barred[i] = count_not_barred[i]\n",
    "vec_not_barred"
   ],
   "metadata": {
    "collapsed": false,
    "pycharm": {
     "name": "#%%\n"
    }
   }
  },
  {
   "cell_type": "code",
   "execution_count": null,
   "outputs": [],
   "source": [
    "count_spiral_arms = Counter(preds_spiral_arms)\n",
    "vec_spiral_arms = [0] * n_clusters\n",
    "\n",
    "for i in range(n_clusters):\n",
    "    if i in count_spiral_arms:\n",
    "        vec_spiral_arms[i] = count_spiral_arms[i]\n",
    "vec_spiral_arms"
   ],
   "metadata": {
    "collapsed": false,
    "pycharm": {
     "name": "#%%\n"
    }
   }
  },
  {
   "cell_type": "code",
   "execution_count": null,
   "outputs": [],
   "source": [
    "count_completely_round = Counter(preds_completely_round)\n",
    "vec_completely_round = [0] * n_clusters\n",
    "\n",
    "for i in range(n_clusters):\n",
    "    if i in count_completely_round:\n",
    "        vec_completely_round[i] = count_completely_round[i]\n",
    "vec_completely_round"
   ],
   "metadata": {
    "collapsed": false,
    "pycharm": {
     "name": "#%%\n"
    }
   }
  },
  {
   "cell_type": "code",
   "execution_count": null,
   "outputs": [],
   "source": [
    "count_elliptic = Counter(preds_elliptic)\n",
    "vec_elliptic = [0] * n_clusters\n",
    "\n",
    "for i in range(n_clusters):\n",
    "    if i in count_elliptic:\n",
    "        vec_elliptic[i] = count_elliptic[i]\n",
    "vec_elliptic"
   ],
   "metadata": {
    "collapsed": false,
    "pycharm": {
     "name": "#%%\n"
    }
   }
  },
  {
   "cell_type": "code",
   "execution_count": null,
   "outputs": [],
   "source": [
    "x = [f'C{i+1}' for i in range(13)]"
   ],
   "metadata": {
    "collapsed": false,
    "pycharm": {
     "name": "#%%\n"
    }
   }
  },
  {
   "cell_type": "code",
   "execution_count": null,
   "outputs": [],
   "source": [
    "vec_edge_on = np.array(vec_edge_on)\n",
    "vec_barred = np.array(vec_barred)\n",
    "vec_not_barred = np.array(vec_not_barred)\n",
    "vec_spiral_arms = np.array(vec_spiral_arms)\n",
    "vec_completely_round = np.array(vec_completely_round)\n",
    "vec_elliptic = np.array(vec_elliptic)"
   ],
   "metadata": {
    "collapsed": false,
    "pycharm": {
     "name": "#%%\n"
    }
   }
  },
  {
   "cell_type": "code",
   "execution_count": null,
   "outputs": [],
   "source": [
    "plt.figure()\n",
    "plt.bar(x, vec_edge_on, color='cyan', label='Edge on')\n",
    "plt.bar(x, vec_barred, bottom=vec_edge_on, color='green', label='Barred')\n",
    "plt.bar(x, vec_not_barred, bottom=vec_edge_on+vec_barred, color='red', label='Not barred')\n",
    "plt.bar(x, vec_spiral_arms, bottom=vec_edge_on+vec_barred+vec_not_barred, color='yellow', label='Spiral arms')\n",
    "plt.bar(x, vec_completely_round, bottom=vec_edge_on+vec_barred+vec_not_barred+vec_spiral_arms, color='blue', \n",
    "        label='Completely round')\n",
    "plt.bar(x, vec_elliptic, bottom=vec_edge_on+vec_barred+vec_not_barred+vec_spiral_arms+vec_completely_round,\n",
    "       color='orange', label='elliptic')\n",
    "\n",
    "plt.xlabel('Cluster')\n",
    "plt.ylabel('Galaxies')\n",
    "plt.legend()\n",
    "\n",
    "plt.savefig('bar_chart.png', dpi=600)"
   ],
   "metadata": {
    "collapsed": false,
    "pycharm": {
     "name": "#%%\n"
    }
   }
  }
 ],
 "metadata": {
  "kernelspec": {
   "display_name": "Python 3",
   "language": "python",
   "name": "python3"
  },
  "language_info": {
   "codemirror_mode": {
    "name": "ipython",
    "version": 3
   },
   "file_extension": ".py",
   "mimetype": "text/x-python",
   "name": "python",
   "nbconvert_exporter": "python",
   "pygments_lexer": "ipython3",
   "version": "3.8.11"
  }
 },
 "nbformat": 4,
 "nbformat_minor": 5
}